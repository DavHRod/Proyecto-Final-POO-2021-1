{
  "nbformat": 4,
  "nbformat_minor": 0,
  "metadata": {
    "colab": {
      "name": "Proyecto-Final-POO-G7-2021-1.ipynb",
      "provenance": [],
      "collapsed_sections": [],
      "authorship_tag": "ABX9TyMnNBOTD0aKiLqKyBek0kjD",
      "include_colab_link": true
    },
    "kernelspec": {
      "name": "python3",
      "display_name": "Python 3"
    },
    "language_info": {
      "name": "python"
    }
  },
  "cells": [
    {
      "cell_type": "markdown",
      "metadata": {
        "id": "view-in-github",
        "colab_type": "text"
      },
      "source": [
        "<a href=\"https://colab.research.google.com/github/DavHRod/Proyecto-Final-POO-2021-1/blob/main/Proyecto_Final_POO_G7_2021_1.ipynb\" target=\"_parent\"><img src=\"https://colab.research.google.com/assets/colab-badge.svg\" alt=\"Open In Colab\"/></a>"
      ]
    },
    {
      "cell_type": "code",
      "metadata": {
        "colab": {
          "base_uri": "https://localhost:8080/",
          "height": 129
        },
        "id": "WmCFOQfsJTl3",
        "outputId": "ab19f695-93b5-4a15-a8ff-bc4a3bdc77cc"
      },
      "source": [
        "#Importacion de librerias a usar\n",
        "import sqlite3\n",
        "from sqlite3 import Error\n",
        "\n",
        "#Funcion de iniciacion de la base de datos\n",
        "def sql_connection():\n",
        "    try:\n",
        "        con = sqlite3.connect('VaccineDataBase.db')\n",
        "        return con\n",
        "    except Error:\n",
        "        print(Error)\n",
        "#Funcion de creacion primary keys\n",
        "def sql_table(con):\n",
        "    cursorObj = con.cursor()\n",
        "    cursorObj.execute(\"CREATE TABLE Vacunas(id integer PRIMARY KEY, nombre text, apellido text, Vacunado bool)\")"
      ],
      "execution_count": 10,
      "outputs": [
        {
          "output_type": "error",
          "ename": "SyntaxError",
          "evalue": "ignored",
          "traceback": [
            "\u001b[0;36m  File \u001b[0;32m\"<ipython-input-10-7546c00ceee4>\"\u001b[0;36m, line \u001b[0;32m15\u001b[0m\n\u001b[0;31m    DROP TABLE estudiante\u001b[0m\n\u001b[0m             ^\u001b[0m\n\u001b[0;31mSyntaxError\u001b[0m\u001b[0;31m:\u001b[0m invalid syntax\n"
          ]
        }
      ]
    },
    {
      "cell_type": "code",
      "metadata": {
        "colab": {
          "base_uri": "https://localhost:8080/",
          "height": 299
        },
        "id": "WwgKzP-lNr4A",
        "outputId": "fb0b1cf0-34e0-4bcb-98ff-b3ae1a73ef1d"
      },
      "source": [
        "#Conexion con la base de datos\n",
        "con=sql_connection()\n",
        "#Ejecucion de funciones\n",
        "sql_table(con)"
      ],
      "execution_count": 11,
      "outputs": [
        {
          "output_type": "error",
          "ename": "OperationalError",
          "evalue": "ignored",
          "traceback": [
            "\u001b[0;31m---------------------------------------------------------------------------\u001b[0m",
            "\u001b[0;31mOperationalError\u001b[0m                          Traceback (most recent call last)",
            "\u001b[0;32m<ipython-input-11-2501b21c940c>\u001b[0m in \u001b[0;36m<module>\u001b[0;34m()\u001b[0m\n\u001b[1;32m      2\u001b[0m \u001b[0mcon\u001b[0m\u001b[0;34m=\u001b[0m\u001b[0msql_connection\u001b[0m\u001b[0;34m(\u001b[0m\u001b[0;34m)\u001b[0m\u001b[0;34m\u001b[0m\u001b[0;34m\u001b[0m\u001b[0m\n\u001b[1;32m      3\u001b[0m \u001b[0;31m#Ejecucion de funciones\u001b[0m\u001b[0;34m\u001b[0m\u001b[0;34m\u001b[0m\u001b[0;34m\u001b[0m\u001b[0m\n\u001b[0;32m----> 4\u001b[0;31m \u001b[0msql_table\u001b[0m\u001b[0;34m(\u001b[0m\u001b[0mcon\u001b[0m\u001b[0;34m)\u001b[0m\u001b[0;34m\u001b[0m\u001b[0;34m\u001b[0m\u001b[0m\n\u001b[0m",
            "\u001b[0;32m<ipython-input-6-0e76bcba2001>\u001b[0m in \u001b[0;36msql_table\u001b[0;34m(con)\u001b[0m\n\u001b[1;32m     13\u001b[0m \u001b[0;32mdef\u001b[0m \u001b[0msql_table\u001b[0m\u001b[0;34m(\u001b[0m\u001b[0mcon\u001b[0m\u001b[0;34m)\u001b[0m\u001b[0;34m:\u001b[0m\u001b[0;34m\u001b[0m\u001b[0;34m\u001b[0m\u001b[0m\n\u001b[1;32m     14\u001b[0m     \u001b[0mcursorObj\u001b[0m \u001b[0;34m=\u001b[0m \u001b[0mcon\u001b[0m\u001b[0;34m.\u001b[0m\u001b[0mcursor\u001b[0m\u001b[0;34m(\u001b[0m\u001b[0;34m)\u001b[0m\u001b[0;34m\u001b[0m\u001b[0;34m\u001b[0m\u001b[0m\n\u001b[0;32m---> 15\u001b[0;31m     \u001b[0mcursorObj\u001b[0m\u001b[0;34m.\u001b[0m\u001b[0mexecute\u001b[0m\u001b[0;34m(\u001b[0m\u001b[0;34m\"CREATE TABLE estudiante(id integer PRIMARY KEY, nombre text, apellido text, nota real)\"\u001b[0m\u001b[0;34m)\u001b[0m\u001b[0;34m\u001b[0m\u001b[0;34m\u001b[0m\u001b[0m\n\u001b[0m",
            "\u001b[0;31mOperationalError\u001b[0m: table estudiante already exists"
          ]
        }
      ]
    },
    {
      "cell_type": "code",
      "metadata": {
        "id": "WGWHagNWRt6j"
      },
      "source": [
        "#Cerrar conexion\n",
        "con.close()"
      ],
      "execution_count": null,
      "outputs": []
    },
    {
      "cell_type": "code",
      "metadata": {
        "id": "qdgy8L92OYyr"
      },
      "source": [
        "#Acá dejamos los comandos sqlite3\n",
        "#Crear// Tabla cursorObj.execute(\"CREATE TABLE Nombre_De_Tabla(Campo1 Tipo_Dato Situacional(PRIMARY KEY), Campo2 Tipo_Dato, N_Campos Su_Tipo_Dato)\")\n",
        "#Insert// cursorObj.execute(\"INSERT INTO Nombre_De_Tabla VALUES(Campo1, Campo2, N_Campos_Concordes_Al_#_Campos)\")\n",
        "#Updates// cursorObj.execute('UPDATE Nombre_De_Tabla SET Campo_Modificar = Valor_Nuevo where Campo_de_Identificacion = PRIMARY KEY')\n",
        "\n",
        "#Recordar que existen comandos que no funcionan correctamente sin un SELECT\n",
        "#Select// cursorObj.execute('SELECT Campo1, Campo2, N_campos FROM Nombre_de_tabla')\n",
        "#Para seleccionar todo usar * en ves de campos\n",
        "\n",
        "#Deletes// cursorObj.execute('DELETE FROM Nombre_De_Tabla').rowcount\n",
        "#.rowcount, devuelve el numero de filas borradas\n",
        "\n",
        "#!!!!!Drop!!!!!// DROP TABLE Nombre_De_Tabla"
      ],
      "execution_count": null,
      "outputs": []
    }
  ]
}