{
  "nbformat": 4,
  "nbformat_minor": 0,
  "metadata": {
    "colab": {
      "name": "Proyecto-Final-POO-G7-2021-1.ipynb",
      "provenance": [],
      "collapsed_sections": [],
      "mount_file_id": "1TIW63lz73_rut_v9CoOH56R2DJ_r2VYn",
      "authorship_tag": "ABX9TyOuCxE5z52+ffmCc/WyZG13",
      "include_colab_link": true
    },
    "kernelspec": {
      "name": "python3",
      "display_name": "Python 3"
    },
    "language_info": {
      "name": "python"
    }
  },
  "cells": [
    {
      "cell_type": "markdown",
      "metadata": {
        "id": "view-in-github",
        "colab_type": "text"
      },
      "source": [
        "<a href=\"https://colab.research.google.com/github/DavHRod/Proyecto-Final-POO-2021-1/blob/main/Proyecto_Final_POO_G7_2021_1.ipynb\" target=\"_parent\"><img src=\"https://colab.research.google.com/assets/colab-badge.svg\" alt=\"Open In Colab\"/></a>"
      ]
    },
    {
      "cell_type": "code",
      "metadata": {
        "id": "WmCFOQfsJTl3"
      },
      "source": [
        "#Importacion de librerias a usar\n",
        "import sqlite3\n",
        "from sqlite3 import Error\n",
        "\n",
        "#Funcion de iniciacion de la base de datos\n",
        "def sql_connection():\n",
        "    try:\n",
        "        con = sqlite3.connect('VaccineDataBase.db')\n",
        "        return con\n",
        "    except Error:\n",
        "        print(Error)\n",
        "#Funcion de creacion primary keys\n",
        "def sql_table(con):\n",
        "    cursorObj = con.cursor()\n",
        "    cursorObj.execute(\"CREATE TABLE Vacunas(id integer PRIMARY KEY, nombre text, apellido text, Vacunado bool)\")"
      ],
      "execution_count": null,
      "outputs": []
    },
    {
      "cell_type": "code",
      "metadata": {
        "id": "WwgKzP-lNr4A"
      },
      "source": [
        "#Conexion con la base de datos\n",
        "con=sql_connection()\n",
        "#Ejecucion de funciones\n",
        "sql_table(con)"
      ],
      "execution_count": null,
      "outputs": []
    },
    {
      "cell_type": "code",
      "metadata": {
        "id": "WGWHagNWRt6j"
      },
      "source": [
        "#Cerrar conexion\n",
        "con.close()"
      ],
      "execution_count": null,
      "outputs": []
    },
    {
      "cell_type": "code",
      "metadata": {
        "id": "qdgy8L92OYyr"
      },
      "source": [
        "#Acá dejamos los comandos sqlite3\n",
        "#Crear// Tabla cursorObj.execute(\"CREATE TABLE Nombre_De_Tabla(Campo1 Tipo_Dato Situacional(PRIMARY KEY), Campo2 Tipo_Dato, N_Campos Su_Tipo_Dato)\")\n",
        "#Insert// cursorObj.execute(\"INSERT INTO Nombre_De_Tabla VALUES(Campo1, Campo2, N_Campos_Concordes_Al_#_Campos)\")\n",
        "#Updates// cursorObj.execute('UPDATE Nombre_De_Tabla SET Campo_Modificar = Valor_Nuevo where Campo_de_Identificacion = PRIMARY KEY')\n",
        "\n",
        "#Recordar que existen comandos que no funcionan correctamente sin un SELECT\n",
        "#Select// cursorObj.execute('SELECT Campo1, Campo2, N_campos FROM Nombre_de_tabla')\n",
        "#Para seleccionar todo usar * en ves de campos\n",
        "\n",
        "#Deletes// cursorObj.execute('DELETE FROM Nombre_De_Tabla').rowcount\n",
        "#.rowcount, devuelve el numero de filas borradas\n",
        "\n",
        "#!!!!!Drop!!!!!// DROP TABLE Nombre_De_Tabla"
      ],
      "execution_count": null,
      "outputs": []
    }
  ]
}